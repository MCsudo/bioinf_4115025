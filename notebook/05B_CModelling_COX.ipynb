{
 "cells": [
  {
   "cell_type": "code",
   "execution_count": 37,
   "metadata": {},
   "outputs": [
    {
     "name": "stderr",
     "output_type": "stream",
     "text": [
      "@> PDB file is found in working directory (1ets.pdb.gz).\n",
      "@> 3664 atoms and 1 coordinate set(s) were parsed in 0.04s.\n",
      "@> PDB file is found in working directory (1aut.pdb.gz).\n",
      "@> 3694 atoms and 1 coordinate set(s) were parsed in 0.03s.\n",
      "@> PDB file is found in working directory (1hcg.pdb.gz).\n",
      "@> 2449 atoms and 1 coordinate set(s) were parsed in 0.02s.\n",
      "@> PDB file is found in working directory (1tpp.pdb.gz).\n",
      "@> 1743 atoms and 1 coordinate set(s) were parsed in 0.02s.\n",
      "@> PDB file is found in working directory (1ppf.pdb.gz).\n",
      "@> 2518 atoms and 1 coordinate set(s) were parsed in 0.02s.\n"
     ]
    }
   ],
   "source": [
    "import prody\n",
    "pdbs = [\"1ETS\",\"1AUT\",\"1HCG\",\"1TPP\",\"1PPF\"]\n",
    "pdbsatoms = []\n",
    "for pdb in pdbs:\n",
    "    pdbF = prody.fetchPDB(pdb)\n",
    "    pdbsatoms.append(prody.parsePDB(pdbF))\n",
    "    "
   ]
  },
  {
   "cell_type": "code",
   "execution_count": 48,
   "metadata": {},
   "outputs": [
    {
     "name": "stdout",
     "output_type": "stream",
     "text": [
      "PDB Header Line: \n",
      "PDB Header Line: \n",
      "PDB Header Line: \n",
      "PDB Header Line: \n",
      "PDB Header Line: \n"
     ]
    }
   ],
   "source": [
    "from biopandas.pdb import PandasPdb\n",
    "pdbs = [\"1ETS\",\"1AUT\",\"1HCG\",\"1TPP\",\"1PPF\"]\n",
    "pdbsatoms = []\n",
    "for pdb in pdbs:\n",
    "    ppdb = PandasPdb().fetch_pdb(pdb)\n",
    "    print('PDB Header Line: %s' % ppdb.header)\n",
    "    pdbsatoms.append(ppdb)\n",
    "    "
   ]
  },
  {
   "cell_type": "code",
   "execution_count": 29,
   "metadata": {},
   "outputs": [
    {
     "data": {
      "text/plain": [
       "array(['L', 'H'], dtype=object)"
      ]
     },
     "execution_count": 29,
     "metadata": {},
     "output_type": "execute_result"
    }
   ],
   "source": [
    "pdbsatoms[0].df['ATOM']['chain_id'].unique()"
   ]
  },
  {
   "cell_type": "code",
   "execution_count": 30,
   "metadata": {},
   "outputs": [
    {
     "data": {
      "text/html": [
       "<div>\n",
       "<style scoped>\n",
       "    .dataframe tbody tr th:only-of-type {\n",
       "        vertical-align: middle;\n",
       "    }\n",
       "\n",
       "    .dataframe tbody tr th {\n",
       "        vertical-align: top;\n",
       "    }\n",
       "\n",
       "    .dataframe thead th {\n",
       "        text-align: right;\n",
       "    }\n",
       "</style>\n",
       "<table border=\"1\" class=\"dataframe\">\n",
       "  <thead>\n",
       "    <tr style=\"text-align: right;\">\n",
       "      <th></th>\n",
       "      <th>record_name</th>\n",
       "      <th>atom_number</th>\n",
       "      <th>blank_1</th>\n",
       "      <th>atom_name</th>\n",
       "      <th>alt_loc</th>\n",
       "      <th>residue_name</th>\n",
       "      <th>blank_2</th>\n",
       "      <th>chain_id</th>\n",
       "      <th>residue_number</th>\n",
       "      <th>insertion</th>\n",
       "      <th>blank_3</th>\n",
       "      <th>x_coord</th>\n",
       "      <th>y_coord</th>\n",
       "      <th>z_coord</th>\n",
       "      <th>occupancy</th>\n",
       "      <th>b_factor</th>\n",
       "      <th>blank_4</th>\n",
       "      <th>segment_id</th>\n",
       "      <th>element_symbol</th>\n",
       "      <th>charge</th>\n",
       "      <th>line_idx</th>\n",
       "    </tr>\n",
       "  </thead>\n",
       "  <tbody>\n",
       "    <tr>\n",
       "      <th>0</th>\n",
       "      <td>ATOM</td>\n",
       "      <td>1</td>\n",
       "      <td></td>\n",
       "      <td>N</td>\n",
       "      <td></td>\n",
       "      <td>THR</td>\n",
       "      <td></td>\n",
       "      <td>L</td>\n",
       "      <td>1</td>\n",
       "      <td>H</td>\n",
       "      <td></td>\n",
       "      <td>-44.489</td>\n",
       "      <td>-6.962</td>\n",
       "      <td>8.807</td>\n",
       "      <td>0.0</td>\n",
       "      <td>62.52</td>\n",
       "      <td></td>\n",
       "      <td></td>\n",
       "      <td>N</td>\n",
       "      <td>NaN</td>\n",
       "      <td>655</td>\n",
       "    </tr>\n",
       "    <tr>\n",
       "      <th>1</th>\n",
       "      <td>ATOM</td>\n",
       "      <td>2</td>\n",
       "      <td></td>\n",
       "      <td>CA</td>\n",
       "      <td></td>\n",
       "      <td>THR</td>\n",
       "      <td></td>\n",
       "      <td>L</td>\n",
       "      <td>1</td>\n",
       "      <td>H</td>\n",
       "      <td></td>\n",
       "      <td>-43.513</td>\n",
       "      <td>-7.173</td>\n",
       "      <td>9.845</td>\n",
       "      <td>0.0</td>\n",
       "      <td>62.50</td>\n",
       "      <td></td>\n",
       "      <td></td>\n",
       "      <td>C</td>\n",
       "      <td>NaN</td>\n",
       "      <td>656</td>\n",
       "    </tr>\n",
       "    <tr>\n",
       "      <th>2</th>\n",
       "      <td>ATOM</td>\n",
       "      <td>3</td>\n",
       "      <td></td>\n",
       "      <td>C</td>\n",
       "      <td></td>\n",
       "      <td>THR</td>\n",
       "      <td></td>\n",
       "      <td>L</td>\n",
       "      <td>1</td>\n",
       "      <td>H</td>\n",
       "      <td></td>\n",
       "      <td>-43.553</td>\n",
       "      <td>-5.850</td>\n",
       "      <td>10.591</td>\n",
       "      <td>0.0</td>\n",
       "      <td>62.42</td>\n",
       "      <td></td>\n",
       "      <td></td>\n",
       "      <td>C</td>\n",
       "      <td>NaN</td>\n",
       "      <td>657</td>\n",
       "    </tr>\n",
       "    <tr>\n",
       "      <th>3</th>\n",
       "      <td>ATOM</td>\n",
       "      <td>4</td>\n",
       "      <td></td>\n",
       "      <td>O</td>\n",
       "      <td></td>\n",
       "      <td>THR</td>\n",
       "      <td></td>\n",
       "      <td>L</td>\n",
       "      <td>1</td>\n",
       "      <td>H</td>\n",
       "      <td></td>\n",
       "      <td>-43.702</td>\n",
       "      <td>-4.822</td>\n",
       "      <td>9.927</td>\n",
       "      <td>0.0</td>\n",
       "      <td>62.45</td>\n",
       "      <td></td>\n",
       "      <td></td>\n",
       "      <td>O</td>\n",
       "      <td>NaN</td>\n",
       "      <td>658</td>\n",
       "    </tr>\n",
       "    <tr>\n",
       "      <th>4</th>\n",
       "      <td>ATOM</td>\n",
       "      <td>5</td>\n",
       "      <td></td>\n",
       "      <td>CB</td>\n",
       "      <td></td>\n",
       "      <td>THR</td>\n",
       "      <td></td>\n",
       "      <td>L</td>\n",
       "      <td>1</td>\n",
       "      <td>H</td>\n",
       "      <td></td>\n",
       "      <td>-42.177</td>\n",
       "      <td>-7.404</td>\n",
       "      <td>9.109</td>\n",
       "      <td>0.0</td>\n",
       "      <td>62.55</td>\n",
       "      <td></td>\n",
       "      <td></td>\n",
       "      <td>C</td>\n",
       "      <td>NaN</td>\n",
       "      <td>659</td>\n",
       "    </tr>\n",
       "  </tbody>\n",
       "</table>\n",
       "</div>"
      ],
      "text/plain": [
       "  record_name  atom_number blank_1 atom_name alt_loc residue_name blank_2 chain_id  residue_number insertion blank_3  x_coord  y_coord  z_coord  occupancy  b_factor blank_4 segment_id element_symbol  charge  line_idx\n",
       "0        ATOM            1                 N                  THR                L               1         H          -44.489   -6.962    8.807        0.0     62.52                                 N     NaN       655\n",
       "1        ATOM            2                CA                  THR                L               1         H          -43.513   -7.173    9.845        0.0     62.50                                 C     NaN       656\n",
       "2        ATOM            3                 C                  THR                L               1         H          -43.553   -5.850   10.591        0.0     62.42                                 C     NaN       657\n",
       "3        ATOM            4                 O                  THR                L               1         H          -43.702   -4.822    9.927        0.0     62.45                                 O     NaN       658\n",
       "4        ATOM            5                CB                  THR                L               1         H          -42.177   -7.404    9.109        0.0     62.55                                 C     NaN       659"
      ]
     },
     "execution_count": 30,
     "metadata": {},
     "output_type": "execute_result"
    }
   ],
   "source": [
    "pdbsatoms[0].df['ATOM'].head()"
   ]
  },
  {
   "cell_type": "code",
   "execution_count": 47,
   "metadata": {},
   "outputs": [
    {
     "ename": "AttributeError",
     "evalue": "'DataFrame' object has no attribute 'getsequence'",
     "output_type": "error",
     "traceback": [
      "\u001b[0;31m---------------------------------------------------------------------------\u001b[0m",
      "\u001b[0;31mAttributeError\u001b[0m                            Traceback (most recent call last)",
      "\u001b[0;32m<ipython-input-47-19700ec42c46>\u001b[0m in \u001b[0;36m<module>\u001b[0;34m\u001b[0m\n\u001b[0;32m----> 1\u001b[0;31m \u001b[0mpdbsatoms\u001b[0m\u001b[0;34m[\u001b[0m\u001b[0;36m0\u001b[0m\u001b[0;34m]\u001b[0m\u001b[0;34m.\u001b[0m\u001b[0mdf\u001b[0m\u001b[0;34m[\u001b[0m\u001b[0;34m'ATOM'\u001b[0m\u001b[0;34m]\u001b[0m\u001b[0;34m.\u001b[0m\u001b[0mgetsequence\u001b[0m\u001b[0;34m(\u001b[0m\u001b[0;34m)\u001b[0m\u001b[0;34m\u001b[0m\u001b[0;34m\u001b[0m\u001b[0m\n\u001b[0m",
      "\u001b[0;32m/usr/local/anaconda3/envs/bio/lib/python3.6/site-packages/pandas/core/generic.py\u001b[0m in \u001b[0;36m__getattr__\u001b[0;34m(self, name)\u001b[0m\n\u001b[1;32m   5065\u001b[0m             \u001b[0;32mif\u001b[0m \u001b[0mself\u001b[0m\u001b[0;34m.\u001b[0m\u001b[0m_info_axis\u001b[0m\u001b[0;34m.\u001b[0m\u001b[0m_can_hold_identifiers_and_holds_name\u001b[0m\u001b[0;34m(\u001b[0m\u001b[0mname\u001b[0m\u001b[0;34m)\u001b[0m\u001b[0;34m:\u001b[0m\u001b[0;34m\u001b[0m\u001b[0;34m\u001b[0m\u001b[0m\n\u001b[1;32m   5066\u001b[0m                 \u001b[0;32mreturn\u001b[0m \u001b[0mself\u001b[0m\u001b[0;34m[\u001b[0m\u001b[0mname\u001b[0m\u001b[0;34m]\u001b[0m\u001b[0;34m\u001b[0m\u001b[0;34m\u001b[0m\u001b[0m\n\u001b[0;32m-> 5067\u001b[0;31m             \u001b[0;32mreturn\u001b[0m \u001b[0mobject\u001b[0m\u001b[0;34m.\u001b[0m\u001b[0m__getattribute__\u001b[0m\u001b[0;34m(\u001b[0m\u001b[0mself\u001b[0m\u001b[0;34m,\u001b[0m \u001b[0mname\u001b[0m\u001b[0;34m)\u001b[0m\u001b[0;34m\u001b[0m\u001b[0;34m\u001b[0m\u001b[0m\n\u001b[0m\u001b[1;32m   5068\u001b[0m \u001b[0;34m\u001b[0m\u001b[0m\n\u001b[1;32m   5069\u001b[0m     \u001b[0;32mdef\u001b[0m \u001b[0m__setattr__\u001b[0m\u001b[0;34m(\u001b[0m\u001b[0mself\u001b[0m\u001b[0;34m,\u001b[0m \u001b[0mname\u001b[0m\u001b[0;34m,\u001b[0m \u001b[0mvalue\u001b[0m\u001b[0;34m)\u001b[0m\u001b[0;34m:\u001b[0m\u001b[0;34m\u001b[0m\u001b[0;34m\u001b[0m\u001b[0m\n",
      "\u001b[0;31mAttributeError\u001b[0m: 'DataFrame' object has no attribute 'getsequence'"
     ]
    }
   ],
   "source": [
    "pdbsatoms[0].df['ATOM'].getsequence()"
   ]
  }
 ],
 "metadata": {
  "kernelspec": {
   "display_name": "Python 3",
   "language": "python",
   "name": "python3"
  },
  "language_info": {
   "codemirror_mode": {
    "name": "ipython",
    "version": 3
   },
   "file_extension": ".py",
   "mimetype": "text/x-python",
   "name": "python",
   "nbconvert_exporter": "python",
   "pygments_lexer": "ipython3",
   "version": "3.6.7"
  }
 },
 "nbformat": 4,
 "nbformat_minor": 4
}
