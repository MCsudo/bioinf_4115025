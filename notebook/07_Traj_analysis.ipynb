{
 "cells": [
  {
   "cell_type": "markdown",
   "metadata": {},
   "source": [
    "# Trajectory Analysis With MDanlysis\n",
    "+ Dr. Alexis Salas Burgos\n",
    "+ Nanocell Labs\n",
    "+ Universidad de Concepción\n",
    "+ June 2019"
   ]
  },
  {
   "cell_type": "markdown",
   "metadata": {},
   "source": [
    "## MDAnalysis \n",
    "* from https://www.mdanalysis.org\n",
    "* conda install mdanalysis -c conda-forge\n",
    "* conda install MDAnalysisTests -c conda-forge"
   ]
  },
  {
   "cell_type": "code",
   "execution_count": 2,
   "metadata": {},
   "outputs": [
    {
     "name": "stdout",
     "output_type": "stream",
     "text": [
      ">>>MDAnalysis: Universe\n",
      "<Universe with 3341 atoms>\n"
     ]
    }
   ],
   "source": [
    "import MDAnalysis as mda\n",
    "from MDAnalysis.tests.datafiles import PSF, DCD\n",
    "\n",
    "## MDAnalysis\n",
    "u = mda.Universe(PSF, DCD)\n",
    "\n",
    "print(\">>>MDAnalysis: Universe\")\n",
    "print(u)"
   ]
  },
  {
   "cell_type": "markdown",
   "metadata": {},
   "source": [
    "## Subset from topology"
   ]
  },
  {
   "cell_type": "code",
   "execution_count": 3,
   "metadata": {},
   "outputs": [
    {
     "name": "stdout",
     "output_type": "stream",
     "text": [
      ">>Objetos Aminoácidos\n",
      "[<Atom 1: N of type 56 of resname MET, resid 1 and segid 4AKE>,\n",
      " <Atom 2: HT1 of type 2 of resname MET, resid 1 and segid 4AKE>,\n",
      " <Atom 3: HT2 of type 2 of resname MET, resid 1 and segid 4AKE>]\n",
      ">>Objetos Residuos\n",
      "[<Residue MET, 1>,\n",
      " <Residue ARG, 2>,\n",
      " <Residue ILE, 3>,\n",
      " <Residue ILE, 4>,\n",
      " <Residue LEU, 5>]\n",
      ">>Objetos Segmentos\n",
      "[<Segment 4AKE>]\n",
      ">>Lista de Residuos\n",
      "[('MET', 1), ('ARG', 2), ('ILE', 3), ('ILE', 4), ('LEU', 5)]\n"
     ]
    }
   ],
   "source": [
    "## MDAnalysis subset for topology\n",
    "atomos   = list(u.atoms[:3])\n",
    "residuos = list(u.atoms[0:100].residues)\n",
    "segids   = list(u.atoms.segments)\n",
    "\n",
    "resnames = u.atoms[0:100].residues.resnames\n",
    "resids   = u.atoms[0:100].residues.resids\n",
    "res_list = list(zip(resnames, resids))\n",
    "\n",
    "import pprint\n",
    "print(\">>Objetos Aminoácidos\")\n",
    "pprint.pprint(atomos)\n",
    "print(\">>Objetos Residuos\")\n",
    "pprint.pprint(residuos)\n",
    "print(\">>Objetos Segmentos\")\n",
    "pprint.pprint(segids)\n",
    "\n",
    "print(\">>Lista de Residuos\")\n",
    "pprint.pprint(res_list)"
   ]
  },
  {
   "cell_type": "markdown",
   "metadata": {},
   "source": [
    "# RMSD"
   ]
  },
  {
   "cell_type": "code",
   "execution_count": 4,
   "metadata": {},
   "outputs": [
    {
     "name": "stderr",
     "output_type": "stream",
     "text": [
      "/usr/local/anaconda3/envs/amber2019/lib/python3.7/site-packages/MDAnalysis/coordinates/PDB.py:902: UserWarning: Found no information for attr: 'altLocs' Using default value of ' '\n",
      "  \"\".format(attrname, default))\n",
      "/usr/local/anaconda3/envs/amber2019/lib/python3.7/site-packages/MDAnalysis/coordinates/PDB.py:902: UserWarning: Found no information for attr: 'icodes' Using default value of ' '\n",
      "  \"\".format(attrname, default))\n",
      "/usr/local/anaconda3/envs/amber2019/lib/python3.7/site-packages/MDAnalysis/coordinates/PDB.py:902: UserWarning: Found no information for attr: 'occupancies' Using default value of '1.0'\n",
      "  \"\".format(attrname, default))\n"
     ]
    },
    {
     "name": "stdout",
     "output_type": "stream",
     "text": [
      "Frame 0: CORE RMSD before/after superposition: 0.0 / 0.0 A. min-max displacement: 0.0...0.0 A\n",
      "Frame 1: CORE RMSD before/after superposition: 0.7 / 0.7 A. min-max displacement: 0.0...3.5 A\n",
      "Frame 2: CORE RMSD before/after superposition: 0.8 / 0.8 A. min-max displacement: 0.0...3.6 A\n",
      "Frame 3: CORE RMSD before/after superposition: 1.0 / 1.0 A. min-max displacement: 0.0...4.2 A\n",
      "Frame 4: CORE RMSD before/after superposition: 1.1 / 1.0 A. min-max displacement: 0.0...4.7 A\n",
      "Frame 5: CORE RMSD before/after superposition: 1.1 / 1.1 A. min-max displacement: 0.0...6.3 A\n",
      "Frame 6: CORE RMSD before/after superposition: 1.2 / 1.1 A. min-max displacement: 0.1...6.4 A\n",
      "Frame 7: CORE RMSD before/after superposition: 1.3 / 1.2 A. min-max displacement: 0.1...7.2 A\n",
      "Frame 8: CORE RMSD before/after superposition: 1.3 / 1.2 A. min-max displacement: 0.1...7.3 A\n",
      "Frame 9: CORE RMSD before/after superposition: 1.4 / 1.3 A. min-max displacement: 0.0...6.6 A\n",
      "Frame 10: CORE RMSD before/after superposition: 1.5 / 1.3 A. min-max displacement: 0.1...6.7 A\n",
      "Frame 11: CORE RMSD before/after superposition: 1.5 / 1.4 A. min-max displacement: 0.0...7.6 A\n",
      "Frame 12: CORE RMSD before/after superposition: 1.6 / 1.4 A. min-max displacement: 0.0...8.0 A\n",
      "Frame 13: CORE RMSD before/after superposition: 1.6 / 1.4 A. min-max displacement: 0.0...8.6 A\n",
      "Frame 14: CORE RMSD before/after superposition: 1.7 / 1.4 A. min-max displacement: 0.0...8.7 A\n",
      "Frame 15: CORE RMSD before/after superposition: 1.7 / 1.5 A. min-max displacement: 0.1...8.6 A\n",
      "Frame 16: CORE RMSD before/after superposition: 1.7 / 1.5 A. min-max displacement: 0.0...8.7 A\n",
      "Frame 17: CORE RMSD before/after superposition: 1.8 / 1.5 A. min-max displacement: 0.0...8.5 A\n",
      "Frame 18: CORE RMSD before/after superposition: 1.8 / 1.5 A. min-max displacement: 0.0...9.3 A\n",
      "Frame 19: CORE RMSD before/after superposition: 1.8 / 1.5 A. min-max displacement: 0.0...9.8 A\n",
      "Frame 20: CORE RMSD before/after superposition: 1.9 / 1.5 A. min-max displacement: 0.1...10.0 A\n",
      "Frame 21: CORE RMSD before/after superposition: 1.9 / 1.6 A. min-max displacement: 0.1...10.3 A\n",
      "Frame 22: CORE RMSD before/after superposition: 2.0 / 1.6 A. min-max displacement: 0.1...10.2 A\n",
      "Frame 23: CORE RMSD before/after superposition: 2.0 / 1.7 A. min-max displacement: 0.1...10.3 A\n",
      "Frame 24: CORE RMSD before/after superposition: 2.1 / 1.7 A. min-max displacement: 0.1...11.4 A\n",
      "Frame 25: CORE RMSD before/after superposition: 2.2 / 1.7 A. min-max displacement: 0.0...11.5 A\n",
      "Frame 26: CORE RMSD before/after superposition: 2.2 / 1.7 A. min-max displacement: 0.1...11.5 A\n",
      "Frame 27: CORE RMSD before/after superposition: 2.2 / 1.8 A. min-max displacement: 0.1...12.3 A\n",
      "Frame 28: CORE RMSD before/after superposition: 2.3 / 1.8 A. min-max displacement: 0.1...12.5 A\n",
      "Frame 29: CORE RMSD before/after superposition: 2.4 / 1.8 A. min-max displacement: 0.1...12.7 A\n",
      "Frame 30: CORE RMSD before/after superposition: 2.4 / 1.9 A. min-max displacement: 0.1...13.2 A\n",
      "Frame 31: CORE RMSD before/after superposition: 2.5 / 1.9 A. min-max displacement: 0.1...13.1 A\n",
      "Frame 32: CORE RMSD before/after superposition: 2.6 / 1.9 A. min-max displacement: 0.1...13.7 A\n",
      "Frame 33: CORE RMSD before/after superposition: 2.5 / 1.9 A. min-max displacement: 0.1...14.4 A\n",
      "Frame 34: CORE RMSD before/after superposition: 2.6 / 1.9 A. min-max displacement: 0.1...14.8 A\n",
      "Frame 35: CORE RMSD before/after superposition: 2.6 / 1.9 A. min-max displacement: 0.2...15.0 A\n",
      "Frame 36: CORE RMSD before/after superposition: 2.7 / 1.9 A. min-max displacement: 0.2...15.6 A\n",
      "Frame 37: CORE RMSD before/after superposition: 2.7 / 1.9 A. min-max displacement: 0.1...15.4 A\n",
      "Frame 38: CORE RMSD before/after superposition: 2.7 / 2.0 A. min-max displacement: 0.1...15.8 A\n",
      "Frame 39: CORE RMSD before/after superposition: 2.8 / 2.0 A. min-max displacement: 0.1...16.1 A\n",
      "Frame 40: CORE RMSD before/after superposition: 2.8 / 2.0 A. min-max displacement: 0.1...16.4 A\n",
      "Frame 41: CORE RMSD before/after superposition: 2.9 / 2.0 A. min-max displacement: 0.1...16.6 A\n",
      "Frame 42: CORE RMSD before/after superposition: 2.9 / 2.0 A. min-max displacement: 0.1...16.9 A\n",
      "Frame 43: CORE RMSD before/after superposition: 3.0 / 2.0 A. min-max displacement: 0.1...17.2 A\n",
      "Frame 44: CORE RMSD before/after superposition: 2.9 / 2.0 A. min-max displacement: 0.1...17.7 A\n",
      "Frame 45: CORE RMSD before/after superposition: 3.0 / 2.0 A. min-max displacement: 0.0...17.9 A\n",
      "Frame 46: CORE RMSD before/after superposition: 3.0 / 2.0 A. min-max displacement: 0.1...18.5 A\n",
      "Frame 47: CORE RMSD before/after superposition: 3.1 / 2.0 A. min-max displacement: 0.2...18.4 A\n",
      "Frame 48: CORE RMSD before/after superposition: 3.1 / 2.1 A. min-max displacement: 0.1...18.7 A\n",
      "Frame 49: CORE RMSD before/after superposition: 3.1 / 2.1 A. min-max displacement: 0.1...18.5 A\n",
      "Frame 50: CORE RMSD before/after superposition: 3.1 / 2.1 A. min-max displacement: 0.1...19.4 A\n",
      "Frame 51: CORE RMSD before/after superposition: 3.1 / 2.1 A. min-max displacement: 0.1...20.0 A\n",
      "Frame 52: CORE RMSD before/after superposition: 3.1 / 2.1 A. min-max displacement: 0.1...19.6 A\n",
      "Frame 53: CORE RMSD before/after superposition: 3.2 / 2.1 A. min-max displacement: 0.1...19.3 A\n",
      "Frame 54: CORE RMSD before/after superposition: 3.2 / 2.1 A. min-max displacement: 0.1...19.9 A\n",
      "Frame 55: CORE RMSD before/after superposition: 3.3 / 2.2 A. min-max displacement: 0.1...20.1 A\n",
      "Frame 56: CORE RMSD before/after superposition: 3.3 / 2.2 A. min-max displacement: 0.1...20.4 A\n",
      "Frame 57: CORE RMSD before/after superposition: 3.3 / 2.2 A. min-max displacement: 0.1...20.3 A\n",
      "Frame 58: CORE RMSD before/after superposition: 3.4 / 2.3 A. min-max displacement: 0.1...20.9 A\n",
      "Frame 59: CORE RMSD before/after superposition: 3.4 / 2.3 A. min-max displacement: 0.1...21.0 A\n",
      "Frame 60: CORE RMSD before/after superposition: 3.4 / 2.3 A. min-max displacement: 0.1...20.6 A\n",
      "Frame 61: CORE RMSD before/after superposition: 3.4 / 2.3 A. min-max displacement: 0.1...20.8 A\n",
      "Frame 62: CORE RMSD before/after superposition: 3.4 / 2.3 A. min-max displacement: 0.1...21.3 A\n",
      "Frame 63: CORE RMSD before/after superposition: 3.5 / 2.3 A. min-max displacement: 0.1...21.4 A\n",
      "Frame 64: CORE RMSD before/after superposition: 3.5 / 2.3 A. min-max displacement: 0.1...21.9 A\n",
      "Frame 65: CORE RMSD before/after superposition: 3.6 / 2.3 A. min-max displacement: 0.2...22.1 A\n",
      "Frame 66: CORE RMSD before/after superposition: 3.6 / 2.3 A. min-max displacement: 0.1...22.4 A\n",
      "Frame 67: CORE RMSD before/after superposition: 3.6 / 2.3 A. min-max displacement: 0.1...22.4 A\n",
      "Frame 68: CORE RMSD before/after superposition: 3.6 / 2.4 A. min-max displacement: 0.1...22.7 A\n",
      "Frame 69: CORE RMSD before/after superposition: 3.7 / 2.4 A. min-max displacement: 0.1...22.9 A\n",
      "Frame 70: CORE RMSD before/after superposition: 3.7 / 2.4 A. min-max displacement: 0.1...23.4 A\n",
      "Frame 71: CORE RMSD before/after superposition: 3.8 / 2.4 A. min-max displacement: 0.1...23.2 A\n",
      "Frame 72: CORE RMSD before/after superposition: 3.7 / 2.4 A. min-max displacement: 0.2...23.4 A\n",
      "Frame 73: CORE RMSD before/after superposition: 3.7 / 2.4 A. min-max displacement: 0.1...23.2 A\n",
      "Frame 74: CORE RMSD before/after superposition: 3.7 / 2.4 A. min-max displacement: 0.1...23.5 A\n",
      "Frame 75: CORE RMSD before/after superposition: 3.8 / 2.4 A. min-max displacement: 0.2...23.5 A\n",
      "Frame 76: CORE RMSD before/after superposition: 3.8 / 2.4 A. min-max displacement: 0.2...23.7 A\n",
      "Frame 77: CORE RMSD before/after superposition: 3.8 / 2.4 A. min-max displacement: 0.1...23.4 A\n",
      "Frame 78: CORE RMSD before/after superposition: 3.8 / 2.4 A. min-max displacement: 0.1...23.5 A\n",
      "Frame 79: CORE RMSD before/after superposition: 3.7 / 2.4 A. min-max displacement: 0.1...23.6 A\n",
      "Frame 80: CORE RMSD before/after superposition: 3.7 / 2.4 A. min-max displacement: 0.1...23.4 A\n",
      "Frame 81: CORE RMSD before/after superposition: 3.7 / 2.4 A. min-max displacement: 0.1...23.3 A\n",
      "Frame 82: CORE RMSD before/after superposition: 3.7 / 2.4 A. min-max displacement: 0.1...23.3 A\n",
      "Frame 83: CORE RMSD before/after superposition: 3.7 / 2.4 A. min-max displacement: 0.1...23.7 A\n",
      "Frame 84: CORE RMSD before/after superposition: 3.8 / 2.4 A. min-max displacement: 0.0...23.7 A\n",
      "Frame 85: CORE RMSD before/after superposition: 3.7 / 2.4 A. min-max displacement: 0.1...23.5 A\n",
      "Frame 86: CORE RMSD before/after superposition: 3.7 / 2.4 A. min-max displacement: 0.0...23.7 A\n",
      "Frame 87: CORE RMSD before/after superposition: 3.8 / 2.4 A. min-max displacement: 0.2...24.0 A\n",
      "Frame 88: CORE RMSD before/after superposition: 3.8 / 2.4 A. min-max displacement: 0.1...24.2 A\n",
      "Frame 89: CORE RMSD before/after superposition: 3.8 / 2.4 A. min-max displacement: 0.1...23.8 A\n",
      "Frame 90: CORE RMSD before/after superposition: 3.8 / 2.5 A. min-max displacement: 0.1...24.2 A\n",
      "Frame 91: CORE RMSD before/after superposition: 3.8 / 2.4 A. min-max displacement: 0.1...24.2 A\n",
      "Frame 92: CORE RMSD before/after superposition: 3.8 / 2.4 A. min-max displacement: 0.1...24.0 A\n",
      "Frame 93: CORE RMSD before/after superposition: 3.8 / 2.4 A. min-max displacement: 0.1...24.1 A\n",
      "Frame 94: CORE RMSD before/after superposition: 3.8 / 2.4 A. min-max displacement: 0.1...24.2 A\n",
      "Frame 95: CORE RMSD before/after superposition: 3.8 / 2.4 A. min-max displacement: 0.1...24.2 A\n",
      "Frame 96: CORE RMSD before/after superposition: 3.9 / 2.5 A. min-max displacement: 0.1...24.5 A\n",
      "Frame 97: CORE RMSD before/after superposition: 3.9 / 2.4 A. min-max displacement: 0.1...24.5 A\n",
      "Wrote PDB trajectory adk_distance_bfac.pdb with distances in bfactor field\n"
     ]
    }
   ],
   "source": [
    "## MDAnalysis\n",
    "# project a dynamic property on the structure using the B-factor (tempfactor) field\n",
    "import numpy as np\n",
    "import MDAnalysis\n",
    "import MDAnalysis.analysis.align\n",
    "\n",
    "from MDAnalysis.tests.datafiles import PSF, DCD\n",
    "\n",
    "\n",
    "u = MDAnalysis.Universe(PSF, DCD)\n",
    "ref = MDAnalysis.Universe(PSF, DCD)  # copy of u\n",
    "\n",
    "CORE_selection = \"resid 1-29 or resid 60-121 or resid 160-214\"\n",
    "pdbtrj = \"adk_distance_bfac.pdb\"\n",
    "\n",
    "\n",
    "# workaround for Issue #1359 https://github.com/MDAnalysis/mdanalysis/issues/1359\n",
    "# which will be fixed in 0.17.0\n",
    "u.add_TopologyAttr(MDAnalysis.core.topologyattrs.Tempfactors(np.zeros(len(u.atoms))))\n",
    "\n",
    "\n",
    "with MDAnalysis.Writer(pdbtrj, multiframe=True, bonds=None, n_atoms=u.atoms.n_atoms) as PDB:\n",
    "    # reference coordinates: set to first frame\n",
    "    ref.trajectory[0]\n",
    "    # iterate through our trajectory\n",
    "    for ts in u.trajectory:\n",
    "        # superimpose on the reference CORE (at t=0)\n",
    "        rmsd = MDAnalysis.analysis.align.alignto(u.atoms, ref.atoms, select=CORE_selection)\n",
    "        distances = np.sqrt(np.sum((u.atoms.positions - ref.atoms.positions)**2, axis=1))\n",
    "        # project displacement on structure via bfactor (\"tempfactor\") field\n",
    "        u.atoms.tempfactors = distances\n",
    "        PDB.write(u.atoms)\n",
    "        print(\"Frame {0}: CORE RMSD before/after superposition: {1[0]:.1f} / {1[1]:.1f} A. \"\n",
    "              \"min-max displacement: {2:.1f}...{3:.1f} A\".format(ts.frame, rmsd, distances.min(), distances.max()))\n",
    "\n",
    "print(\"Wrote PDB trajectory {0} with distances in bfactor field\".format(pdbtrj))"
   ]
  },
  {
   "cell_type": "markdown",
   "metadata": {},
   "source": [
    "## Radius Girus"
   ]
  },
  {
   "cell_type": "code",
   "execution_count": 10,
   "metadata": {},
   "outputs": [
    {
     "ename": "AttributeError",
     "evalue": "AtomGroup has no attribute radiusofgyration",
     "output_type": "error",
     "traceback": [
      "\u001b[0;31m---------------------------------------------------------------------------\u001b[0m",
      "\u001b[0;31mAttributeError\u001b[0m                            Traceback (most recent call last)",
      "\u001b[0;32m<ipython-input-10-16628cd761ad>\u001b[0m in \u001b[0;36m<module>\u001b[0;34m\u001b[0m\n\u001b[1;32m      2\u001b[0m \u001b[0mprotein\u001b[0m \u001b[0;34m=\u001b[0m \u001b[0mu\u001b[0m\u001b[0;34m.\u001b[0m\u001b[0mselect_atoms\u001b[0m\u001b[0;34m(\u001b[0m\u001b[0;34m\"protein\"\u001b[0m\u001b[0;34m)\u001b[0m\u001b[0;34m\u001b[0m\u001b[0;34m\u001b[0m\u001b[0m\n\u001b[1;32m      3\u001b[0m \u001b[0;32mfor\u001b[0m \u001b[0mts\u001b[0m \u001b[0;32min\u001b[0m \u001b[0mu\u001b[0m\u001b[0;34m.\u001b[0m\u001b[0mtrajectory\u001b[0m\u001b[0;34m:\u001b[0m\u001b[0;34m\u001b[0m\u001b[0;34m\u001b[0m\u001b[0m\n\u001b[0;32m----> 4\u001b[0;31m     \u001b[0mRgyr\u001b[0m\u001b[0;34m.\u001b[0m\u001b[0mappend\u001b[0m\u001b[0;34m(\u001b[0m\u001b[0;34m(\u001b[0m\u001b[0mu\u001b[0m\u001b[0;34m.\u001b[0m\u001b[0mtrajectory\u001b[0m\u001b[0;34m.\u001b[0m\u001b[0mtime\u001b[0m\u001b[0;34m,\u001b[0m \u001b[0mprotein\u001b[0m\u001b[0;34m.\u001b[0m\u001b[0mradiusofgyration\u001b[0m\u001b[0;34m(\u001b[0m\u001b[0;34m)\u001b[0m\u001b[0;34m)\u001b[0m\u001b[0;34m)\u001b[0m\u001b[0;34m\u001b[0m\u001b[0;34m\u001b[0m\u001b[0m\n\u001b[0m\u001b[1;32m      5\u001b[0m \u001b[0mRgyr\u001b[0m \u001b[0;34m=\u001b[0m \u001b[0mnp\u001b[0m\u001b[0;34m.\u001b[0m\u001b[0marray\u001b[0m\u001b[0;34m(\u001b[0m\u001b[0mRgyr\u001b[0m\u001b[0;34m)\u001b[0m\u001b[0;34m\u001b[0m\u001b[0;34m\u001b[0m\u001b[0m\n",
      "\u001b[0;32m/usr/local/anaconda3/envs/amber2019/lib/python3.7/site-packages/MDAnalysis/core/groups.py\u001b[0m in \u001b[0;36m__getattr__\u001b[0;34m(self, attr)\u001b[0m\n\u001b[1;32m   1821\u001b[0m                 \u001b[0;32mpass\u001b[0m\u001b[0;34m\u001b[0m\u001b[0;34m\u001b[0m\u001b[0m\n\u001b[1;32m   1822\u001b[0m         raise AttributeError(\"{cls} has no attribute {attr}\".format(\n\u001b[0;32m-> 1823\u001b[0;31m             cls=self.__class__.__name__, attr=attr))\n\u001b[0m\u001b[1;32m   1824\u001b[0m \u001b[0;34m\u001b[0m\u001b[0m\n\u001b[1;32m   1825\u001b[0m     \u001b[0;32mdef\u001b[0m \u001b[0m__reduce__\u001b[0m\u001b[0;34m(\u001b[0m\u001b[0mself\u001b[0m\u001b[0;34m)\u001b[0m\u001b[0;34m:\u001b[0m\u001b[0;34m\u001b[0m\u001b[0;34m\u001b[0m\u001b[0m\n",
      "\u001b[0;31mAttributeError\u001b[0m: AtomGroup has no attribute radiusofgyration"
     ]
    }
   ],
   "source": [
    "Rgyr = []\n",
    "protein = u.select_atoms(\"protein\")\n",
    "for ts in u.trajectory:\n",
    "    Rgyr.append((u.trajectory.time, protein.radiusofgyration()))\n",
    "Rgyr = np.array(Rgyr)"
   ]
  },
  {
   "cell_type": "code",
   "execution_count": 11,
   "metadata": {},
   "outputs": [
    {
     "ename": "TypeError",
     "evalue": "list indices must be integers or slices, not tuple",
     "output_type": "error",
     "traceback": [
      "\u001b[0;31m---------------------------------------------------------------------------\u001b[0m",
      "\u001b[0;31mTypeError\u001b[0m                                 Traceback (most recent call last)",
      "\u001b[0;32m<ipython-input-11-5c57bcf2fdd0>\u001b[0m in \u001b[0;36m<module>\u001b[0;34m\u001b[0m\n\u001b[1;32m      2\u001b[0m \u001b[0;32mimport\u001b[0m \u001b[0mmatplotlib\u001b[0m\u001b[0;34m.\u001b[0m\u001b[0mpyplot\u001b[0m \u001b[0;32mas\u001b[0m \u001b[0mplt\u001b[0m\u001b[0;34m\u001b[0m\u001b[0;34m\u001b[0m\u001b[0m\n\u001b[1;32m      3\u001b[0m \u001b[0max\u001b[0m \u001b[0;34m=\u001b[0m \u001b[0mplt\u001b[0m\u001b[0;34m.\u001b[0m\u001b[0msubplot\u001b[0m\u001b[0;34m(\u001b[0m\u001b[0;36m111\u001b[0m\u001b[0;34m)\u001b[0m\u001b[0;34m\u001b[0m\u001b[0;34m\u001b[0m\u001b[0m\n\u001b[0;32m----> 4\u001b[0;31m \u001b[0max\u001b[0m\u001b[0;34m.\u001b[0m\u001b[0mplot\u001b[0m\u001b[0;34m(\u001b[0m\u001b[0mRgyr\u001b[0m\u001b[0;34m[\u001b[0m\u001b[0;34m:\u001b[0m\u001b[0;34m,\u001b[0m\u001b[0;36m0\u001b[0m\u001b[0;34m]\u001b[0m\u001b[0;34m,\u001b[0m \u001b[0mRgyr\u001b[0m\u001b[0;34m[\u001b[0m\u001b[0;34m:\u001b[0m\u001b[0;34m,\u001b[0m\u001b[0;36m1\u001b[0m\u001b[0;34m]\u001b[0m\u001b[0;34m,\u001b[0m \u001b[0;34m'r--'\u001b[0m\u001b[0;34m,\u001b[0m \u001b[0mlw\u001b[0m\u001b[0;34m=\u001b[0m\u001b[0;36m2\u001b[0m\u001b[0;34m,\u001b[0m \u001b[0mlabel\u001b[0m\u001b[0;34m=\u001b[0m\u001b[0;34mr\"$R_G$\"\u001b[0m\u001b[0;34m)\u001b[0m\u001b[0;34m\u001b[0m\u001b[0;34m\u001b[0m\u001b[0m\n\u001b[0m\u001b[1;32m      5\u001b[0m \u001b[0max\u001b[0m\u001b[0;34m.\u001b[0m\u001b[0mset_xlabel\u001b[0m\u001b[0;34m(\u001b[0m\u001b[0;34m\"time (ps)\"\u001b[0m\u001b[0;34m)\u001b[0m\u001b[0;34m\u001b[0m\u001b[0;34m\u001b[0m\u001b[0m\n\u001b[1;32m      6\u001b[0m \u001b[0max\u001b[0m\u001b[0;34m.\u001b[0m\u001b[0mset_ylabel\u001b[0m\u001b[0;34m(\u001b[0m\u001b[0;34mr\"radius of gyration $R_G$ ($\\AA$)\"\u001b[0m\u001b[0;34m)\u001b[0m\u001b[0;34m\u001b[0m\u001b[0;34m\u001b[0m\u001b[0m\n",
      "\u001b[0;31mTypeError\u001b[0m: list indices must be integers or slices, not tuple"
     ]
    }
   ],
   "source": [
    "# quick plot\n",
    "import matplotlib.pyplot as plt\n",
    "ax = plt.subplot(111)\n",
    "ax.plot(Rgyr[:,0], Rgyr[:,1], 'r--', lw=2, label=r\"$R_G$\")\n",
    "ax.set_xlabel(\"time (ps)\")\n",
    "ax.set_ylabel(r\"radius of gyration $R_G$ ($\\AA$)\")\n",
    "ax.figure.savefig(\"Rgyr.pdf\")\n",
    "plt.draw()"
   ]
  },
  {
   "cell_type": "markdown",
   "metadata": {},
   "source": [
    "# Hydrogen Bond"
   ]
  },
  {
   "cell_type": "code",
   "execution_count": null,
   "metadata": {},
   "outputs": [],
   "source": [
    "## MDAnalysis\n",
    "import MDAnalysis\n",
    "import MDAnalysis.analysis.hbonds\n",
    "h = MDAnalysis.analysis.hbonds.HydrogenBondAnalysis(u, 'protein', 'protein', distance=3.0, angle=120.0)\n",
    "h.run()"
   ]
  },
  {
   "cell_type": "code",
   "execution_count": null,
   "metadata": {},
   "outputs": [],
   "source": [
    "h.generate_table()\n",
    "import pandas as pd\n",
    "df = pd.DataFrame.from_records(h.table)\n",
    "df.hist(column=[\"angle\", \"distance\"])"
   ]
  }
 ],
 "metadata": {
  "kernelspec": {
   "display_name": "Python 3",
   "language": "python",
   "name": "python3"
  },
  "language_info": {
   "codemirror_mode": {
    "name": "ipython",
    "version": 3
   },
   "file_extension": ".py",
   "mimetype": "text/x-python",
   "name": "python",
   "nbconvert_exporter": "python",
   "pygments_lexer": "ipython3",
   "version": "3.7.3"
  }
 },
 "nbformat": 4,
 "nbformat_minor": 4
}
